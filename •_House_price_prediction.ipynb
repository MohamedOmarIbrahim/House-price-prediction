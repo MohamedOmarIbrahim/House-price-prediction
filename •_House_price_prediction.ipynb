{
  "nbformat": 4,
  "nbformat_minor": 0,
  "metadata": {
    "colab": {
      "provenance": []
    },
    "kernelspec": {
      "name": "python3",
      "display_name": "Python 3"
    },
    "language_info": {
      "name": "python"
    }
  },
  "cells": [
    {
      "cell_type": "code",
      "execution_count": null,
      "metadata": {
        "id": "x3zV1h-RBM6B"
      },
      "outputs": [],
      "source": [
        "import pandas as pd\n",
        "import numpy as np\n",
        "import random\n",
        "random.seed(4)\n",
        "import matplotlib.pyplot as plt\n",
        "import seaborn as sns\n",
        "import matplotlib.pyplot as plt\n",
        "import seaborn as sns\n",
        "from sklearn.model_selection import train_test_split\n",
        "from sklearn.linear_model import LinearRegression\n",
        "from sklearn.linear_model import Lasso, Ridge\n",
        "from sklearn.metrics import mean_squared_error,r2_score\n",
        "from sklearn.metrics import accuracy_score"
      ]
    },
    {
      "cell_type": "code",
      "source": [
        "Housingad = pd.read_csv('Housingad.csv')\n",
        "print(Housingad.isnull().sum())"
      ],
      "metadata": {
        "colab": {
          "base_uri": "https://localhost:8080/"
        },
        "id": "KhbWkx4O4NNa",
        "outputId": "bb3aaf44-addf-4a40-bd05-9e74a4f72721"
      },
      "execution_count": null,
      "outputs": [
        {
          "output_type": "stream",
          "name": "stdout",
          "text": [
            "Price            0\n",
            "Area             0\n",
            "Bedrooms         0\n",
            "Bathrooms        0\n",
            "parking          0\n",
            "Home_Type        0\n",
            "address egypt    0\n",
            "dtype: int64\n"
          ]
        }
      ]
    },
    {
      "cell_type": "code",
      "source": [
        " Housingad = Housingad.drop_duplicates()"
      ],
      "metadata": {
        "id": "tU9UTx8N4Uo9"
      },
      "execution_count": null,
      "outputs": []
    },
    {
      "cell_type": "code",
      "source": [
        "Housingad.info"
      ],
      "metadata": {
        "colab": {
          "base_uri": "https://localhost:8080/",
          "height": 203
        },
        "id": "aLgto3OG2N4o",
        "outputId": "9ac1003f-2da6-4c86-924a-bf1e0b5c07b1"
      },
      "execution_count": null,
      "outputs": [
        {
          "output_type": "execute_result",
          "data": {
            "text/plain": [
              "<bound method DataFrame.info of        Price  Area  Bedrooms  Bathrooms  parking      Home_Type  \\\n",
              "0    3800000   280         4          3        2      Apartment   \n",
              "1    3000000   160         3          3        3      Apartment   \n",
              "2    2500000   165         3          2        2      Apartment   \n",
              "3    3900000   260         3          2        3      Apartment   \n",
              "4    3800000   160         3          3        2      Apartment   \n",
              "..       ...   ...       ...        ...      ...            ...   \n",
              "539   850000    85         2          1        0      Apartment   \n",
              "540  4500000   100         3          1        0  Single family   \n",
              "541  2000000   150         3          1        0      Apartment   \n",
              "542  2900000   200         3          1        0      Apartment   \n",
              "543  2800000   122         3          2        0      Apartment   \n",
              "\n",
              "              address egypt  \n",
              "0                 Nasr City  \n",
              "1               Camp Caesar  \n",
              "2                    Smouha  \n",
              "3                 Nasr City  \n",
              "4    New Cairo - El Tagamoa  \n",
              "..                      ...  \n",
              "539          Sharq District  \n",
              "540  New Cairo - El Tagamoa  \n",
              "541                 October  \n",
              "542                 October  \n",
              "543            Sheikh Zayed  \n",
              "\n",
              "[542 rows x 7 columns]>"
            ],
            "text/html": [
              "<div style=\"max-width:800px; border: 1px solid var(--colab-border-color);\"><style>\n",
              "      pre.function-repr-contents {\n",
              "        overflow-x: auto;\n",
              "        padding: 8px 12px;\n",
              "        max-height: 500px;\n",
              "      }\n",
              "\n",
              "      pre.function-repr-contents.function-repr-contents-collapsed {\n",
              "        cursor: pointer;\n",
              "        max-height: 100px;\n",
              "      }\n",
              "    </style>\n",
              "    <pre style=\"white-space: initial; background:\n",
              "         var(--colab-secondary-surface-color); padding: 8px 12px;\n",
              "         border-bottom: 1px solid var(--colab-border-color);\"><b>pandas.core.frame.DataFrame.info</b><br/>def info(verbose: bool | None=None, buf: WriteBuffer[str] | None=None, max_cols: int | None=None, memory_usage: bool | str | None=None, show_counts: bool | None=None) -&gt; None</pre><pre class=\"function-repr-contents function-repr-contents-collapsed\" style=\"\"><a class=\"filepath\" style=\"display:none\" href=\"#\">/usr/local/lib/python3.10/dist-packages/pandas/core/frame.py</a>Print a concise summary of a DataFrame.\n",
              "\n",
              "This method prints information about a DataFrame including\n",
              "the index dtype and columns, non-null values and memory usage.\n",
              "\n",
              "Parameters\n",
              "----------\n",
              "verbose : bool, optional\n",
              "    Whether to print the full summary. By default, the setting in\n",
              "    ``pandas.options.display.max_info_columns`` is followed.\n",
              "buf : writable buffer, defaults to sys.stdout\n",
              "    Where to send the output. By default, the output is printed to\n",
              "    sys.stdout. Pass a writable buffer if you need to further process\n",
              "    the output.\n",
              "max_cols : int, optional\n",
              "    When to switch from the verbose to the truncated output. If the\n",
              "    DataFrame has more than `max_cols` columns, the truncated output\n",
              "    is used. By default, the setting in\n",
              "    ``pandas.options.display.max_info_columns`` is used.\n",
              "memory_usage : bool, str, optional\n",
              "    Specifies whether total memory usage of the DataFrame\n",
              "    elements (including the index) should be displayed. By default,\n",
              "    this follows the ``pandas.options.display.memory_usage`` setting.\n",
              "\n",
              "    True always show memory usage. False never shows memory usage.\n",
              "    A value of &#x27;deep&#x27; is equivalent to &quot;True with deep introspection&quot;.\n",
              "    Memory usage is shown in human-readable units (base-2\n",
              "    representation). Without deep introspection a memory estimation is\n",
              "    made based in column dtype and number of rows assuming values\n",
              "    consume the same memory amount for corresponding dtypes. With deep\n",
              "    memory introspection, a real memory usage calculation is performed\n",
              "    at the cost of computational resources. See the\n",
              "    :ref:`Frequently Asked Questions &lt;df-memory-usage&gt;` for more\n",
              "    details.\n",
              "show_counts : bool, optional\n",
              "    Whether to show the non-null counts. By default, this is shown\n",
              "    only if the DataFrame is smaller than\n",
              "    ``pandas.options.display.max_info_rows`` and\n",
              "    ``pandas.options.display.max_info_columns``. A value of True always\n",
              "    shows the counts, and False never shows the counts.\n",
              "\n",
              "Returns\n",
              "-------\n",
              "None\n",
              "    This method prints a summary of a DataFrame and returns None.\n",
              "\n",
              "See Also\n",
              "--------\n",
              "DataFrame.describe: Generate descriptive statistics of DataFrame\n",
              "    columns.\n",
              "DataFrame.memory_usage: Memory usage of DataFrame columns.\n",
              "\n",
              "Examples\n",
              "--------\n",
              "&gt;&gt;&gt; int_values = [1, 2, 3, 4, 5]\n",
              "&gt;&gt;&gt; text_values = [&#x27;alpha&#x27;, &#x27;beta&#x27;, &#x27;gamma&#x27;, &#x27;delta&#x27;, &#x27;epsilon&#x27;]\n",
              "&gt;&gt;&gt; float_values = [0.0, 0.25, 0.5, 0.75, 1.0]\n",
              "&gt;&gt;&gt; df = pd.DataFrame({&quot;int_col&quot;: int_values, &quot;text_col&quot;: text_values,\n",
              "...                   &quot;float_col&quot;: float_values})\n",
              "&gt;&gt;&gt; df\n",
              "    int_col text_col  float_col\n",
              "0        1    alpha       0.00\n",
              "1        2     beta       0.25\n",
              "2        3    gamma       0.50\n",
              "3        4    delta       0.75\n",
              "4        5  epsilon       1.00\n",
              "\n",
              "Prints information of all columns:\n",
              "\n",
              "&gt;&gt;&gt; df.info(verbose=True)\n",
              "&lt;class &#x27;pandas.core.frame.DataFrame&#x27;&gt;\n",
              "RangeIndex: 5 entries, 0 to 4\n",
              "Data columns (total 3 columns):\n",
              " #   Column     Non-Null Count  Dtype\n",
              "---  ------     --------------  -----\n",
              " 0   int_col    5 non-null      int64\n",
              " 1   text_col   5 non-null      object\n",
              " 2   float_col  5 non-null      float64\n",
              "dtypes: float64(1), int64(1), object(1)\n",
              "memory usage: 248.0+ bytes\n",
              "\n",
              "Prints a summary of columns count and its dtypes but not per column\n",
              "information:\n",
              "\n",
              "&gt;&gt;&gt; df.info(verbose=False)\n",
              "&lt;class &#x27;pandas.core.frame.DataFrame&#x27;&gt;\n",
              "RangeIndex: 5 entries, 0 to 4\n",
              "Columns: 3 entries, int_col to float_col\n",
              "dtypes: float64(1), int64(1), object(1)\n",
              "memory usage: 248.0+ bytes\n",
              "\n",
              "Pipe output of DataFrame.info to buffer instead of sys.stdout, get\n",
              "buffer content and writes to a text file:\n",
              "\n",
              "&gt;&gt;&gt; import io\n",
              "&gt;&gt;&gt; buffer = io.StringIO()\n",
              "&gt;&gt;&gt; df.info(buf=buffer)\n",
              "&gt;&gt;&gt; s = buffer.getvalue()\n",
              "&gt;&gt;&gt; with open(&quot;df_info.txt&quot;, &quot;w&quot;,\n",
              "...           encoding=&quot;utf-8&quot;) as f:  # doctest: +SKIP\n",
              "...     f.write(s)\n",
              "260\n",
              "\n",
              "The `memory_usage` parameter allows deep introspection mode, specially\n",
              "useful for big DataFrames and fine-tune memory optimization:\n",
              "\n",
              "&gt;&gt;&gt; random_strings_array = np.random.choice([&#x27;a&#x27;, &#x27;b&#x27;, &#x27;c&#x27;], 10 ** 6)\n",
              "&gt;&gt;&gt; df = pd.DataFrame({\n",
              "...     &#x27;column_1&#x27;: np.random.choice([&#x27;a&#x27;, &#x27;b&#x27;, &#x27;c&#x27;], 10 ** 6),\n",
              "...     &#x27;column_2&#x27;: np.random.choice([&#x27;a&#x27;, &#x27;b&#x27;, &#x27;c&#x27;], 10 ** 6),\n",
              "...     &#x27;column_3&#x27;: np.random.choice([&#x27;a&#x27;, &#x27;b&#x27;, &#x27;c&#x27;], 10 ** 6)\n",
              "... })\n",
              "&gt;&gt;&gt; df.info()\n",
              "&lt;class &#x27;pandas.core.frame.DataFrame&#x27;&gt;\n",
              "RangeIndex: 1000000 entries, 0 to 999999\n",
              "Data columns (total 3 columns):\n",
              " #   Column    Non-Null Count    Dtype\n",
              "---  ------    --------------    -----\n",
              " 0   column_1  1000000 non-null  object\n",
              " 1   column_2  1000000 non-null  object\n",
              " 2   column_3  1000000 non-null  object\n",
              "dtypes: object(3)\n",
              "memory usage: 22.9+ MB\n",
              "\n",
              "&gt;&gt;&gt; df.info(memory_usage=&#x27;deep&#x27;)\n",
              "&lt;class &#x27;pandas.core.frame.DataFrame&#x27;&gt;\n",
              "RangeIndex: 1000000 entries, 0 to 999999\n",
              "Data columns (total 3 columns):\n",
              " #   Column    Non-Null Count    Dtype\n",
              "---  ------    --------------    -----\n",
              " 0   column_1  1000000 non-null  object\n",
              " 1   column_2  1000000 non-null  object\n",
              " 2   column_3  1000000 non-null  object\n",
              "dtypes: object(3)\n",
              "memory usage: 165.9 MB</pre>\n",
              "      <script>\n",
              "      if (google.colab.kernel.accessAllowed && google.colab.files && google.colab.files.view) {\n",
              "        for (const element of document.querySelectorAll('.filepath')) {\n",
              "          element.style.display = 'block'\n",
              "          element.onclick = (event) => {\n",
              "            event.preventDefault();\n",
              "            event.stopPropagation();\n",
              "            google.colab.files.view(element.textContent, 3345);\n",
              "          };\n",
              "        }\n",
              "      }\n",
              "      for (const element of document.querySelectorAll('.function-repr-contents')) {\n",
              "        element.onclick = (event) => {\n",
              "          event.preventDefault();\n",
              "          event.stopPropagation();\n",
              "          element.classList.toggle('function-repr-contents-collapsed');\n",
              "        };\n",
              "      }\n",
              "      </script>\n",
              "      </div>"
            ]
          },
          "metadata": {},
          "execution_count": 31
        }
      ]
    },
    {
      "cell_type": "code",
      "source": [
        "for column in Housingad.columns:\n",
        "  print(Housingad[column].value_counts())\n",
        "  print(\"*\"*20)"
      ],
      "metadata": {
        "colab": {
          "base_uri": "https://localhost:8080/"
        },
        "id": "IXvgjyh92m1d",
        "outputId": "e918680d-44df-44a8-e270-669ea3acc35d"
      },
      "execution_count": null,
      "outputs": [
        {
          "output_type": "stream",
          "name": "stdout",
          "text": [
            "Price\n",
            "5000000    23\n",
            "3000000    18\n",
            "2000000    16\n",
            "2900000    15\n",
            "4000000    14\n",
            "           ..\n",
            "1875000     1\n",
            "975000      1\n",
            "1940000     1\n",
            "3650000     1\n",
            "850000      1\n",
            "Name: count, Length: 188, dtype: int64\n",
            "********************\n",
            "Area\n",
            "120    26\n",
            "170    23\n",
            "200    18\n",
            "190    18\n",
            "160    18\n",
            "       ..\n",
            "178     1\n",
            "141     1\n",
            "199     1\n",
            "297     1\n",
            "207     1\n",
            "Name: count, Length: 159, dtype: int64\n",
            "********************\n",
            "Bedrooms\n",
            "3    294\n",
            "2    110\n",
            "4     90\n",
            "5     27\n",
            "1     15\n",
            "6      6\n",
            "Name: count, dtype: int64\n",
            "********************\n",
            "Bathrooms\n",
            "2    243\n",
            "3    172\n",
            "1     97\n",
            "4     26\n",
            "5      4\n",
            "Name: count, dtype: int64\n",
            "********************\n",
            "parking\n",
            "0    247\n",
            "1    154\n",
            "2    127\n",
            "3     14\n",
            "Name: count, dtype: int64\n",
            "********************\n",
            "Home_Type\n",
            "Apartment        315\n",
            "Single family    194\n",
            "villa             33\n",
            "Name: count, dtype: int64\n",
            "********************\n",
            "address egypt\n",
            "New Cairo - El Tagamoa    189\n",
            "Sheikh Zayed               52\n",
            "New Capital City           46\n",
            "Madinaty                   40\n",
            "October                    38\n",
            "Nasr City                  18\n",
            "Rehab City                 14\n",
            "Mostakbal City             10\n",
            "Haram                      10\n",
            "Smouha                      9\n",
            "Shorouk City                9\n",
            "Hadayek al-Ahram            9\n",
            "Nakheel                     6\n",
            "Mohandessin                 5\n",
            "Maadi                       5\n",
            "Mokattam                    5\n",
            "Alamein                     4\n",
            "North Coast                 4\n",
            "Heliopolis                  3\n",
            "Miami                       3\n",
            "Mansura                     3\n",
            "Katameya                    3\n",
            "Helmeyat El Zaytoun         3\n",
            "Sidi Beshr                  3\n",
            "Gesr Al Suez                3\n",
            "New Heliopolis              3\n",
            "Zahraa Al Maadi             3\n",
            "Borg al-Arab                2\n",
            "Al Ibrahimiyyah             2\n",
            "Sharq District              2\n",
            "Seyouf                      2\n",
            "Bolkly                      2\n",
            "Fleming                     2\n",
            "Hadayek al-Kobba            2\n",
            "Sporting                    2\n",
            "Agami                       2\n",
            "Mandara                     2\n",
            "Kafr al-Sheikh City         1\n",
            "Helwan                      1\n",
            "Ain Sukhna                  1\n",
            "Laurent                     1\n",
            "Shubra al-Khaimah           1\n",
            "Sidi Gaber                  1\n",
            "Ain Shams                   1\n",
            "Camp Caesar                 1\n",
            "Obour City                  1\n",
            "Maamoura                    1\n",
            "Hurghada                    1\n",
            "Aswan City                  1\n",
            "Qasr al-Nile                1\n",
            "Salam City                  1\n",
            "Port Fouad                  1\n",
            "Abasiya                     1\n",
            "Ras al-Bar                  1\n",
            "Faisal District             1\n",
            "Smuoha                      1\n",
            "Badr City                   1\n",
            "Glim                        1\n",
            "Cleopatra                   1\n",
            "Name: count, dtype: int64\n",
            "********************\n"
          ]
        }
      ]
    },
    {
      "cell_type": "code",
      "source": [
        "Housingad['address egypt'].value_counts()\n"
      ],
      "metadata": {
        "colab": {
          "base_uri": "https://localhost:8080/"
        },
        "id": "2HY520FFSZnO",
        "outputId": "54c2855a-634c-4fce-e8b7-0796b3c3f36d"
      },
      "execution_count": null,
      "outputs": [
        {
          "output_type": "execute_result",
          "data": {
            "text/plain": [
              "address egypt\n",
              "New Cairo - El Tagamoa    189\n",
              "Sheikh Zayed               52\n",
              "New Capital City           46\n",
              "Madinaty                   40\n",
              "October                    38\n",
              "Nasr City                  18\n",
              "Rehab City                 14\n",
              "Mostakbal City             10\n",
              "Haram                      10\n",
              "Smouha                      9\n",
              "Shorouk City                9\n",
              "Hadayek al-Ahram            9\n",
              "Nakheel                     6\n",
              "Mohandessin                 5\n",
              "Maadi                       5\n",
              "Mokattam                    5\n",
              "Alamein                     4\n",
              "North Coast                 4\n",
              "Heliopolis                  3\n",
              "Miami                       3\n",
              "Mansura                     3\n",
              "Katameya                    3\n",
              "Helmeyat El Zaytoun         3\n",
              "Sidi Beshr                  3\n",
              "Gesr Al Suez                3\n",
              "New Heliopolis              3\n",
              "Zahraa Al Maadi             3\n",
              "Borg al-Arab                2\n",
              "Al Ibrahimiyyah             2\n",
              "Sharq District              2\n",
              "Seyouf                      2\n",
              "Bolkly                      2\n",
              "Fleming                     2\n",
              "Hadayek al-Kobba            2\n",
              "Sporting                    2\n",
              "Agami                       2\n",
              "Mandara                     2\n",
              "Kafr al-Sheikh City         1\n",
              "Helwan                      1\n",
              "Ain Sukhna                  1\n",
              "Laurent                     1\n",
              "Shubra al-Khaimah           1\n",
              "Sidi Gaber                  1\n",
              "Ain Shams                   1\n",
              "Camp Caesar                 1\n",
              "Obour City                  1\n",
              "Maamoura                    1\n",
              "Hurghada                    1\n",
              "Aswan City                  1\n",
              "Qasr al-Nile                1\n",
              "Salam City                  1\n",
              "Port Fouad                  1\n",
              "Abasiya                     1\n",
              "Ras al-Bar                  1\n",
              "Faisal District             1\n",
              "Smuoha                      1\n",
              "Badr City                   1\n",
              "Glim                        1\n",
              "Cleopatra                   1\n",
              "Name: count, dtype: int64"
            ]
          },
          "metadata": {},
          "execution_count": 33
        }
      ]
    },
    {
      "cell_type": "code",
      "source": [
        "Housingad['Area'].value_counts()\n"
      ],
      "metadata": {
        "colab": {
          "base_uri": "https://localhost:8080/"
        },
        "id": "sBRKp4pBSzAK",
        "outputId": "f82d762e-080d-44e5-8d03-bfd0d22149f2"
      },
      "execution_count": null,
      "outputs": [
        {
          "output_type": "execute_result",
          "data": {
            "text/plain": [
              "Area\n",
              "120    26\n",
              "170    23\n",
              "200    18\n",
              "190    18\n",
              "160    18\n",
              "       ..\n",
              "178     1\n",
              "141     1\n",
              "199     1\n",
              "297     1\n",
              "207     1\n",
              "Name: count, Length: 159, dtype: int64"
            ]
          },
          "metadata": {},
          "execution_count": 34
        }
      ]
    },
    {
      "cell_type": "code",
      "source": [
        "Housingad['Price'].value_counts()\n"
      ],
      "metadata": {
        "colab": {
          "base_uri": "https://localhost:8080/"
        },
        "id": "zzHRGEbzSpaO",
        "outputId": "6b4a991b-9bc8-4b1f-cc4c-6dbe2118f760"
      },
      "execution_count": null,
      "outputs": [
        {
          "output_type": "execute_result",
          "data": {
            "text/plain": [
              "Price\n",
              "5000000    23\n",
              "3000000    18\n",
              "2000000    16\n",
              "2900000    15\n",
              "4000000    14\n",
              "           ..\n",
              "1875000     1\n",
              "975000      1\n",
              "1940000     1\n",
              "3650000     1\n",
              "850000      1\n",
              "Name: count, Length: 188, dtype: int64"
            ]
          },
          "metadata": {},
          "execution_count": 35
        }
      ]
    },
    {
      "cell_type": "code",
      "source": [
        "plt.figure\n",
        "sns.histplot(Housingad ['Price'], kde=True)\n",
        "plt.title('House Price Distribution')\n",
        "plt.xlabel('Price')\n",
        "plt.show()"
      ],
      "metadata": {
        "colab": {
          "base_uri": "https://localhost:8080/",
          "height": 472
        },
        "id": "gLvFUiBi4YAD",
        "outputId": "48b51731-9ee1-47cd-ece7-2142a2d65576"
      },
      "execution_count": null,
      "outputs": [
        {
          "output_type": "display_data",
          "data": {
            "text/plain": [
              "<Figure size 640x480 with 1 Axes>"
            ],
            "image/png": "[encoded data removed]"
          },
          "metadata": {}
        }
      ]
    },
    {
      "cell_type": "code",
      "source": [
        "sns.catplot(x = \"address egypt\", y = \"Price\", palette = \"Set2\", height=10.27, aspect=11.7/10.27, data = Housingad)\n"
      ],
      "metadata": {
        "colab": {
          "base_uri": "https://localhost:8080/",
          "height": 1000
        },
        "id": "OSjemJZdTDM1",
        "outputId": "8a1e4c37-6b5f-45dc-f06d-6417b6653ef7"
      },
      "execution_count": null,
      "outputs": [
        {
          "output_type": "stream",
          "name": "stderr",
          "text": [
            "<ipython-input-37-ef1ee40ef2cd>:1: FutureWarning: \n",
            "\n",
            "Passing `palette` without assigning `hue` is deprecated and will be removed in v0.14.0. Assign the `x` variable to `hue` and set `legend=False` for the same effect.\n",
            "\n",
            "  sns.catplot(x = \"address egypt\", y = \"Price\", palette = \"Set2\", height=10.27, aspect=11.7/10.27, data = Housingad)\n"
          ]
        },
        {
          "output_type": "execute_result",
          "data": {
            "text/plain": [
              "<seaborn.axisgrid.FacetGrid at 0x7d5068840850>"
            ]
          },
          "metadata": {},
          "execution_count": 37
        },
        {
          "output_type": "display_data",
          "data": {
            "text/plain": [
              "<Figure size 1170x1027 with 1 Axes>"
            ],
            "image/png": "[encoded data removed]"
          },
          "metadata": {}
        }
      ]
    },
    {
      "cell_type": "code",
      "source": [
        "sns.relplot(x='Area', y = 'Price' , data = Housingad)\n"
      ],
      "metadata": {
        "colab": {
          "base_uri": "https://localhost:8080/",
          "height": 523
        },
        "id": "-B7ILKYyUK3D",
        "outputId": "edad9624-65fd-4143-8d4f-6f37187245d9"
      },
      "execution_count": null,
      "outputs": [
        {
          "output_type": "execute_result",
          "data": {
            "text/plain": [
              "<seaborn.axisgrid.FacetGrid at 0x7d50687d6020>"
            ]
          },
          "metadata": {},
          "execution_count": 38
        },
        {
          "output_type": "display_data",
          "data": {
            "text/plain": [
              "<Figure size 500x500 with 1 Axes>"
            ],
            "image/png": "[encoded data removed]"
          },
          "metadata": {}
        }
      ]
    },
    {
      "cell_type": "code",
      "source": [
        "print(Housingad['Price'].describe())\n",
        "plt.figure(figsize=(9, 8))\n",
        "sns.distplot(Housingad['Price'], color='g', bins=100, hist_kws={'alpha': 0.4});"
      ],
      "metadata": {
        "colab": {
          "base_uri": "https://localhost:8080/",
          "height": 1000
        },
        "id": "BZwsnxnbVCk3",
        "outputId": "0f79efea-8375-4fad-cdd2-b5ba6b0d618b"
      },
      "execution_count": null,
      "outputs": [
        {
          "output_type": "stream",
          "name": "stdout",
          "text": [
            "count    5.420000e+02\n",
            "mean     3.958466e+06\n",
            "std      2.480546e+06\n",
            "min      5.500000e+05\n",
            "25%      2.312500e+06\n",
            "50%      3.500000e+06\n",
            "75%      5.000000e+06\n",
            "max      2.600000e+07\n",
            "Name: Price, dtype: float64\n"
          ]
        },
        {
          "output_type": "stream",
          "name": "stderr",
          "text": [
            "<ipython-input-39-28b5bb802603>:3: UserWarning: \n",
            "\n",
            "`distplot` is a deprecated function and will be removed in seaborn v0.14.0.\n",
            "\n",
            "Please adapt your code to use either `displot` (a figure-level function with\n",
            "similar flexibility) or `histplot` (an axes-level function for histograms).\n",
            "\n",
            "For a guide to updating your code to use the new functions, please see\n",
            "https://gist.github.com/mwaskom/de44147ed2974457ad6372750bbe5751\n",
            "\n",
            "  sns.distplot(Housingad['Price'], color='g', bins=100, hist_kws={'alpha': 0.4});\n"
          ]
        },
        {
          "output_type": "display_data",
          "data": {
            "text/plain": [
              "<Figure size 900x800 with 1 Axes>"
            ],
            "image/png": "[encoded data removed]"
          },
          "metadata": {}
        }
      ]
    },
    {
      "cell_type": "code",
      "source": [
        "Housingad.hist(figsize=(16, 20), bins=50, xlabelsize=8, ylabelsize=8);\n"
      ],
      "metadata": {
        "colab": {
          "base_uri": "https://localhost:8080/",
          "height": 1000
        },
        "id": "Lus97q7cVefk",
        "outputId": "fedc62e7-36ea-4f10-cc16-dcc78092d396"
      },
      "execution_count": null,
      "outputs": [
        {
          "output_type": "display_data",
          "data": {
            "text/plain": [
              "<Figure size 1600x2000 with 6 Axes>"
            ],
            "image/png": "[encoded data removed]"
          },
          "metadata": {}
        }
      ]
    },
    {
      "cell_type": "code",
      "source": [
        "sns.distplot(Housingad[\"Price\"])\n"
      ],
      "metadata": {
        "colab": {
          "base_uri": "https://localhost:8080/",
          "height": 673
        },
        "id": "nwr5FbW8WEke",
        "outputId": "07165efb-cbb7-4851-b77b-4fad84dedfa9"
      },
      "execution_count": null,
      "outputs": [
        {
          "output_type": "stream",
          "name": "stderr",
          "text": [
            "<ipython-input-41-453dc4adefd0>:1: UserWarning: \n",
            "\n",
            "`distplot` is a deprecated function and will be removed in seaborn v0.14.0.\n",
            "\n",
            "Please adapt your code to use either `displot` (a figure-level function with\n",
            "similar flexibility) or `histplot` (an axes-level function for histograms).\n",
            "\n",
            "For a guide to updating your code to use the new functions, please see\n",
            "https://gist.github.com/mwaskom/de44147ed2974457ad6372750bbe5751\n",
            "\n",
            "  sns.distplot(Housingad[\"Price\"])\n"
          ]
        },
        {
          "output_type": "execute_result",
          "data": {
            "text/plain": [
              "<Axes: xlabel='Price', ylabel='Density'>"
            ]
          },
          "metadata": {},
          "execution_count": 41
        },
        {
          "output_type": "display_data",
          "data": {
            "text/plain": [
              "<Figure size 640x480 with 1 Axes>"
            ],
            "image/png": "[encoded data removed]"
          },
          "metadata": {}
        }
      ]
    },
    {
      "cell_type": "code",
      "source": [
        "Housingad = pd.read_csv('Housingad.csv')\n",
        "print(Housingad.head(8))"
      ],
      "metadata": {
        "colab": {
          "base_uri": "https://localhost:8080/"
        },
        "id": "8m_yRHRyBVkh",
        "outputId": "9cb47c8c-4208-4c91-caba-628bc996ff3f"
      },
      "execution_count": null,
      "outputs": [
        {
          "output_type": "stream",
          "name": "stdout",
          "text": [
            "     Price  Area  Bedrooms  Bathrooms  parking      Home_Type  \\\n",
            "0  3800000   280         4          3        2      Apartment   \n",
            "1  3000000   160         3          3        3      Apartment   \n",
            "2  2500000   165         3          2        2      Apartment   \n",
            "3  3900000   260         3          2        3      Apartment   \n",
            "4  3800000   160         3          3        2      Apartment   \n",
            "5  4600000   222         4          3        2      Apartment   \n",
            "6  5200000   290         5          5        2      Apartment   \n",
            "7  5600000   220         4          2        2  Single family   \n",
            "\n",
            "            address egypt  \n",
            "0               Nasr City  \n",
            "1             Camp Caesar  \n",
            "2                  Smouha  \n",
            "3               Nasr City  \n",
            "4  New Cairo - El Tagamoa  \n",
            "5  New Cairo - El Tagamoa  \n",
            "6  New Cairo - El Tagamoa  \n",
            "7            Sheikh Zayed  \n"
          ]
        }
      ]
    },
    {
      "cell_type": "code",
      "source": [
        "Housingad.info()"
      ],
      "metadata": {
        "colab": {
          "base_uri": "https://localhost:8080/"
        },
        "id": "M2WvzmbhBXWo",
        "outputId": "4c79dca8-65d2-4ba2-c97f-1b4633dc955e"
      },
      "execution_count": null,
      "outputs": [
        {
          "output_type": "stream",
          "name": "stdout",
          "text": [
            "<class 'pandas.core.frame.DataFrame'>\n",
            "RangeIndex: 544 entries, 0 to 543\n",
            "Data columns (total 7 columns):\n",
            " #   Column         Non-Null Count  Dtype \n",
            "---  ------         --------------  ----- \n",
            " 0   Price          544 non-null    int64 \n",
            " 1   Area           544 non-null    int64 \n",
            " 2   Bedrooms       544 non-null    int64 \n",
            " 3   Bathrooms      544 non-null    int64 \n",
            " 4   parking        544 non-null    int64 \n",
            " 5   Home_Type      544 non-null    object\n",
            " 6   address egypt  544 non-null    object\n",
            "dtypes: int64(5), object(2)\n",
            "memory usage: 29.9+ KB\n"
          ]
        }
      ]
    },
    {
      "cell_type": "code",
      "source": [
        "Housingad.Home_Type.unique()\n",
        "\n",
        "\n",
        "def Type(x):\n",
        "    if x ==\"Apartment\":\n",
        "            return 1\n",
        "    if x ==\"Single family\":\n",
        "            return 2\n",
        "    if x ==\"villa\":\n",
        "            return 3"
      ],
      "metadata": {
        "id": "Dc_Zv42gBaSK"
      },
      "execution_count": null,
      "outputs": []
    },
    {
      "cell_type": "code",
      "source": [
        "Housingad['Home_Type']=Housingad.Home_Type.map(Type)\n",
        "Housingad.head(10)"
      ],
      "metadata": {
        "colab": {
          "base_uri": "https://localhost:8080/",
          "height": 363
        },
        "id": "5CwSaQuWBb8t",
        "outputId": "30ef086a-fa77-46c4-cf86-e0003eacfcb7"
      },
      "execution_count": null,
      "outputs": [
        {
          "output_type": "execute_result",
          "data": {
            "text/plain": [
              "     Price  Area  Bedrooms  Bathrooms  parking  Home_Type  \\\n",
              "0  3800000   280         4          3        2          1   \n",
              "1  3000000   160         3          3        3          1   \n",
              "2  2500000   165         3          2        2          1   \n",
              "3  3900000   260         3          2        3          1   \n",
              "4  3800000   160         3          3        2          1   \n",
              "5  4600000   222         4          3        2          1   \n",
              "6  5200000   290         5          5        2          1   \n",
              "7  5600000   220         4          2        2          2   \n",
              "8  4000000   200         3          3        2          2   \n",
              "9  1500000   146         3          2        1          2   \n",
              "\n",
              "            address egypt  \n",
              "0               Nasr City  \n",
              "1             Camp Caesar  \n",
              "2                  Smouha  \n",
              "3               Nasr City  \n",
              "4  New Cairo - El Tagamoa  \n",
              "5  New Cairo - El Tagamoa  \n",
              "6  New Cairo - El Tagamoa  \n",
              "7            Sheikh Zayed  \n",
              "8  New Cairo - El Tagamoa  \n",
              "9  New Cairo - El Tagamoa  "
            ],
            "text/html": [
              "\n",
              "  <div id=\"df-05fc87f2-dd72-4728-b5c0-ece1edc5f715\" class=\"colab-df-container\">\n",
              "    <div>\n",
              "<style scoped>\n",
              "    .dataframe tbody tr th:only-of-type {\n",
              "        vertical-align: middle;\n",
              "    }\n",
              "\n",
              "    .dataframe tbody tr th {\n",
              "        vertical-align: top;\n",
              "    }\n",
              "\n",
              "    .dataframe thead th {\n",
              "        text-align: right;\n",
              "    }\n",
              "</style>\n",
              "<table border=\"1\" class=\"dataframe\">\n",
              "  <thead>\n",
              "    <tr style=\"text-align: right;\">\n",
              "      <th></th>\n",
              "      <th>Price</th>\n",
              "      <th>Area</th>\n",
              "      <th>Bedrooms</th>\n",
              "      <th>Bathrooms</th>\n",
              "      <th>parking</th>\n",
              "      <th>Home_Type</th>\n",
              "      <th>address egypt</th>\n",
              "    </tr>\n",
              "  </thead>\n",
              "  <tbody>\n",
              "    <tr>\n",
              "      <th>0</th>\n",
              "      <td>3800000</td>\n",
              "      <td>280</td>\n",
              "      <td>4</td>\n",
              "      <td>3</td>\n",
              "      <td>2</td>\n",
              "      <td>1</td>\n",
              "      <td>Nasr City</td>\n",
              "    </tr>\n",
              "    <tr>\n",
              "      <th>1</th>\n",
              "      <td>3000000</td>\n",
              "      <td>160</td>\n",
              "      <td>3</td>\n",
              "      <td>3</td>\n",
              "      <td>3</td>\n",
              "      <td>1</td>\n",
              "      <td>Camp Caesar</td>\n",
              "    </tr>\n",
              "    <tr>\n",
              "      <th>2</th>\n",
              "      <td>2500000</td>\n",
              "      <td>165</td>\n",
              "      <td>3</td>\n",
              "      <td>2</td>\n",
              "      <td>2</td>\n",
              "      <td>1</td>\n",
              "      <td>Smouha</td>\n",
              "    </tr>\n",
              "    <tr>\n",
              "      <th>3</th>\n",
              "      <td>3900000</td>\n",
              "      <td>260</td>\n",
              "      <td>3</td>\n",
              "      <td>2</td>\n",
              "      <td>3</td>\n",
              "      <td>1</td>\n",
              "      <td>Nasr City</td>\n",
              "    </tr>\n",
              "    <tr>\n",
              "      <th>4</th>\n",
              "      <td>3800000</td>\n",
              "      <td>160</td>\n",
              "      <td>3</td>\n",
              "      <td>3</td>\n",
              "      <td>2</td>\n",
              "      <td>1</td>\n",
              "      <td>New Cairo - El Tagamoa</td>\n",
              "    </tr>\n",
              "    <tr>\n",
              "      <th>5</th>\n",
              "      <td>4600000</td>\n",
              "      <td>222</td>\n",
              "      <td>4</td>\n",
              "      <td>3</td>\n",
              "      <td>2</td>\n",
              "      <td>1</td>\n",
              "      <td>New Cairo - El Tagamoa</td>\n",
              "    </tr>\n",
              "    <tr>\n",
              "      <th>6</th>\n",
              "      <td>5200000</td>\n",
              "      <td>290</td>\n",
              "      <td>5</td>\n",
              "      <td>5</td>\n",
              "      <td>2</td>\n",
              "      <td>1</td>\n",
              "      <td>New Cairo - El Tagamoa</td>\n",
              "    </tr>\n",
              "    <tr>\n",
              "      <th>7</th>\n",
              "      <td>5600000</td>\n",
              "      <td>220</td>\n",
              "      <td>4</td>\n",
              "      <td>2</td>\n",
              "      <td>2</td>\n",
              "      <td>2</td>\n",
              "      <td>Sheikh Zayed</td>\n",
              "    </tr>\n",
              "    <tr>\n",
              "      <th>8</th>\n",
              "      <td>4000000</td>\n",
              "      <td>200</td>\n",
              "      <td>3</td>\n",
              "      <td>3</td>\n",
              "      <td>2</td>\n",
              "      <td>2</td>\n",
              "      <td>New Cairo - El Tagamoa</td>\n",
              "    </tr>\n",
              "    <tr>\n",
              "      <th>9</th>\n",
              "      <td>1500000</td>\n",
              "      <td>146</td>\n",
              "      <td>3</td>\n",
              "      <td>2</td>\n",
              "      <td>1</td>\n",
              "      <td>2</td>\n",
              "      <td>New Cairo - El Tagamoa</td>\n",
              "    </tr>\n",
              "  </tbody>\n",
              "</table>\n",
              "</div>\n",
              "    <div class=\"colab-df-buttons\">\n",
              "\n",
              "  <div class=\"colab-df-container\">\n",
              "    <button class=\"colab-df-convert\" onclick=\"convertToInteractive('df-05fc87f2-dd72-4728-b5c0-ece1edc5f715')\"\n",
              "            title=\"Convert this dataframe to an interactive table.\"\n",
              "            style=\"display:none;\">\n",
              "\n",
              "  <svg xmlns=\"http://www.w3.org/2000/svg\" height=\"24px\" viewBox=\"0 -960 960 960\">\n",
              "    <path d=\"M120-120v-720h720v720H120Zm60-500h600v-160H180v160Zm220 220h160v-160H400v160Zm0 220h160v-160H400v160ZM180-400h160v-160H180v160Zm440 0h160v-160H620v160ZM180-180h160v-160H180v160Zm440 0h160v-160H620v160Z\"/>\n",
              "  </svg>\n",
              "    </button>\n",
              "\n",
              "  <style>\n",
              "    .colab-df-container {\n",
              "      display:flex;\n",
              "      gap: 12px;\n",
              "    }\n",
              "\n",
              "    .colab-df-convert {\n",
              "      background-color: #E8F0FE;\n",
              "      border: none;\n",
              "      border-radius: 50%;\n",
              "      cursor: pointer;\n",
              "      display: none;\n",
              "      fill: #1967D2;\n",
              "      height: 32px;\n",
              "      padding: 0 0 0 0;\n",
              "      width: 32px;\n",
              "    }\n",
              "\n",
              "    .colab-df-convert:hover {\n",
              "      background-color: #E2EBFA;\n",
              "      box-shadow: 0px 1px 2px rgba(60, 64, 67, 0.3), 0px 1px 3px 1px rgba(60, 64, 67, 0.15);\n",
              "      fill: #174EA6;\n",
              "    }\n",
              "\n",
              "    .colab-df-buttons div {\n",
              "      margin-bottom: 4px;\n",
              "    }\n",
              "\n",
              "    [theme=dark] .colab-df-convert {\n",
              "      background-color: #3B4455;\n",
              "      fill: #D2E3FC;\n",
              "    }\n",
              "\n",
              "    [theme=dark] .colab-df-convert:hover {\n",
              "      background-color: #434B5C;\n",
              "      box-shadow: 0px 1px 3px 1px rgba(0, 0, 0, 0.15);\n",
              "      filter: drop-shadow(0px 1px 2px rgba(0, 0, 0, 0.3));\n",
              "      fill: #FFFFFF;\n",
              "    }\n",
              "  </style>\n",
              "\n",
              "    <script>\n",
              "      const buttonEl =\n",
              "        document.querySelector('#df-05fc87f2-dd72-4728-b5c0-ece1edc5f715 button.colab-df-convert');\n",
              "      buttonEl.style.display =\n",
              "        google.colab.kernel.accessAllowed ? 'block' : 'none';\n",
              "\n",
              "      async function convertToInteractive(key) {\n",
              "        const element = document.querySelector('#df-05fc87f2-dd72-4728-b5c0-ece1edc5f715');\n",
              "        const dataTable =\n",
              "          await google.colab.kernel.invokeFunction('convertToInteractive',\n",
              "                                                    [key], {});\n",
              "        if (!dataTable) return;\n",
              "\n",
              "        const docLinkHtml = 'Like what you see? Visit the ' +\n",
              "          '<a target=\"_blank\" href=https://colab.research.google.com/notebooks/data_table.ipynb>data table notebook</a>'\n",
              "          + ' to learn more about interactive tables.';\n",
              "        element.innerHTML = '';\n",
              "        dataTable['output_type'] = 'display_data';\n",
              "        await google.colab.output.renderOutput(dataTable, element);\n",
              "        const docLink = document.createElement('div');\n",
              "        docLink.innerHTML = docLinkHtml;\n",
              "        element.appendChild(docLink);\n",
              "      }\n",
              "    </script>\n",
              "  </div>\n",
              "\n",
              "\n",
              "<div id=\"df-1e2966c2-80e3-4c00-b221-e39a97573b5b\">\n",
              "  <button class=\"colab-df-quickchart\" onclick=\"quickchart('df-1e2966c2-80e3-4c00-b221-e39a97573b5b')\"\n",
              "            title=\"Suggest charts\"\n",
              "            style=\"display:none;\">\n",
              "\n",
              "<svg xmlns=\"http://www.w3.org/2000/svg\" height=\"24px\"viewBox=\"0 0 24 24\"\n",
              "     width=\"24px\">\n",
              "    <g>\n",
              "        <path d=\"M19 3H5c-1.1 0-2 .9-2 2v14c0 1.1.9 2 2 2h14c1.1 0 2-.9 2-2V5c0-1.1-.9-2-2-2zM9 17H7v-7h2v7zm4 0h-2V7h2v10zm4 0h-2v-4h2v4z\"/>\n",
              "    </g>\n",
              "</svg>\n",
              "  </button>\n",
              "\n",
              "<style>\n",
              "  .colab-df-quickchart {\n",
              "      --bg-color: #E8F0FE;\n",
              "      --fill-color: #1967D2;\n",
              "      --hover-bg-color: #E2EBFA;\n",
              "      --hover-fill-color: #174EA6;\n",
              "      --disabled-fill-color: #AAA;\n",
              "      --disabled-bg-color: #DDD;\n",
              "  }\n",
              "\n",
              "  [theme=dark] .colab-df-quickchart {\n",
              "      --bg-color: #3B4455;\n",
              "      --fill-color: #D2E3FC;\n",
              "      --hover-bg-color: #434B5C;\n",
              "      --hover-fill-color: #FFFFFF;\n",
              "      --disabled-bg-color: #3B4455;\n",
              "      --disabled-fill-color: #666;\n",
              "  }\n",
              "\n",
              "  .colab-df-quickchart {\n",
              "    background-color: var(--bg-color);\n",
              "    border: none;\n",
              "    border-radius: 50%;\n",
              "    cursor: pointer;\n",
              "    display: none;\n",
              "    fill: var(--fill-color);\n",
              "    height: 32px;\n",
              "    padding: 0;\n",
              "    width: 32px;\n",
              "  }\n",
              "\n",
              "  .colab-df-quickchart:hover {\n",
              "    background-color: var(--hover-bg-color);\n",
              "    box-shadow: 0 1px 2px rgba(60, 64, 67, 0.3), 0 1px 3px 1px rgba(60, 64, 67, 0.15);\n",
              "    fill: var(--button-hover-fill-color);\n",
              "  }\n",
              "\n",
              "  .colab-df-quickchart-complete:disabled,\n",
              "  .colab-df-quickchart-complete:disabled:hover {\n",
              "    background-color: var(--disabled-bg-color);\n",
              "    fill: var(--disabled-fill-color);\n",
              "    box-shadow: none;\n",
              "  }\n",
              "\n",
              "  .colab-df-spinner {\n",
              "    border: 2px solid var(--fill-color);\n",
              "    border-color: transparent;\n",
              "    border-bottom-color: var(--fill-color);\n",
              "    animation:\n",
              "      spin 1s steps(1) infinite;\n",
              "  }\n",
              "\n",
              "  @keyframes spin {\n",
              "    0% {\n",
              "      border-color: transparent;\n",
              "      border-bottom-color: var(--fill-color);\n",
              "      border-left-color: var(--fill-color);\n",
              "    }\n",
              "    20% {\n",
              "      border-color: transparent;\n",
              "      border-left-color: var(--fill-color);\n",
              "      border-top-color: var(--fill-color);\n",
              "    }\n",
              "    30% {\n",
              "      border-color: transparent;\n",
              "      border-left-color: var(--fill-color);\n",
              "      border-top-color: var(--fill-color);\n",
              "      border-right-color: var(--fill-color);\n",
              "    }\n",
              "    40% {\n",
              "      border-color: transparent;\n",
              "      border-right-color: var(--fill-color);\n",
              "      border-top-color: var(--fill-color);\n",
              "    }\n",
              "    60% {\n",
              "      border-color: transparent;\n",
              "      border-right-color: var(--fill-color);\n",
              "    }\n",
              "    80% {\n",
              "      border-color: transparent;\n",
              "      border-right-color: var(--fill-color);\n",
              "      border-bottom-color: var(--fill-color);\n",
              "    }\n",
              "    90% {\n",
              "      border-color: transparent;\n",
              "      border-bottom-color: var(--fill-color);\n",
              "    }\n",
              "  }\n",
              "</style>\n",
              "\n",
              "  <script>\n",
              "    async function quickchart(key) {\n",
              "      const quickchartButtonEl =\n",
              "        document.querySelector('#' + key + ' button');\n",
              "      quickchartButtonEl.disabled = true;  // To prevent multiple clicks.\n",
              "      quickchartButtonEl.classList.add('colab-df-spinner');\n",
              "      try {\n",
              "        const charts = await google.colab.kernel.invokeFunction(\n",
              "            'suggestCharts', [key], {});\n",
              "      } catch (error) {\n",
              "        console.error('Error during call to suggestCharts:', error);\n",
              "      }\n",
              "      quickchartButtonEl.classList.remove('colab-df-spinner');\n",
              "      quickchartButtonEl.classList.add('colab-df-quickchart-complete');\n",
              "    }\n",
              "    (() => {\n",
              "      let quickchartButtonEl =\n",
              "        document.querySelector('#df-1e2966c2-80e3-4c00-b221-e39a97573b5b button');\n",
              "      quickchartButtonEl.style.display =\n",
              "        google.colab.kernel.accessAllowed ? 'block' : 'none';\n",
              "    })();\n",
              "  </script>\n",
              "</div>\n",
              "\n",
              "    </div>\n",
              "  </div>\n"
            ],
            "application/vnd.google.colaboratory.intrinsic+json": {
              "type": "dataframe",
              "variable_name": "Housingad",
              "summary": "{\n  \"name\": \"Housingad\",\n  \"rows\": 544,\n  \"fields\": [\n    {\n      \"column\": \"Price\",\n      \"properties\": {\n        \"dtype\": \"number\",\n        \"std\": 2476052,\n        \"min\": 550000,\n        \"max\": 26000000,\n        \"num_unique_values\": 188,\n        \"samples\": [\n          1978000,\n          585000,\n          3300000\n        ],\n        \"semantic_type\": \"\",\n        \"description\": \"\"\n      }\n    },\n    {\n      \"column\": \"Area\",\n      \"properties\": {\n        \"dtype\": \"number\",\n        \"std\": 88,\n        \"min\": 63,\n        \"max\": 720,\n        \"num_unique_values\": 159,\n        \"samples\": [\n          230,\n          544,\n          265\n        ],\n        \"semantic_type\": \"\",\n        \"description\": \"\"\n      }\n    },\n    {\n      \"column\": \"Bedrooms\",\n      \"properties\": {\n        \"dtype\": \"number\",\n        \"std\": 0,\n        \"min\": 1,\n        \"max\": 6,\n        \"num_unique_values\": 6,\n        \"samples\": [\n          4,\n          3,\n          6\n        ],\n        \"semantic_type\": \"\",\n        \"description\": \"\"\n      }\n    },\n    {\n      \"column\": \"Bathrooms\",\n      \"properties\": {\n        \"dtype\": \"number\",\n        \"std\": 0,\n        \"min\": 1,\n        \"max\": 5,\n        \"num_unique_values\": 5,\n        \"samples\": [\n          2,\n          4,\n          5\n        ],\n        \"semantic_type\": \"\",\n        \"description\": \"\"\n      }\n    },\n    {\n      \"column\": \"parking\",\n      \"properties\": {\n        \"dtype\": \"number\",\n        \"std\": 0,\n        \"min\": 0,\n        \"max\": 3,\n        \"num_unique_values\": 4,\n        \"samples\": [\n          3,\n          0,\n          2\n        ],\n        \"semantic_type\": \"\",\n        \"description\": \"\"\n      }\n    },\n    {\n      \"column\": \"Home_Type\",\n      \"properties\": {\n        \"dtype\": \"number\",\n        \"std\": 0,\n        \"min\": 1,\n        \"max\": 3,\n        \"num_unique_values\": 3,\n        \"samples\": [\n          1,\n          2,\n          3\n        ],\n        \"semantic_type\": \"\",\n        \"description\": \"\"\n      }\n    },\n    {\n      \"column\": \"address egypt\",\n      \"properties\": {\n        \"dtype\": \"category\",\n        \"num_unique_values\": 59,\n        \"samples\": [\n          \"Nasr City\",\n          \"Shorouk City\",\n          \"Helmeyat El Zaytoun\"\n        ],\n        \"semantic_type\": \"\",\n        \"description\": \"\"\n      }\n    }\n  ]\n}"
            }
          },
          "metadata": {},
          "execution_count": 45
        }
      ]
    },
    {
      "cell_type": "code",
      "source": [
        "Housingad.describe()"
      ],
      "metadata": {
        "colab": {
          "base_uri": "https://localhost:8080/",
          "height": 300
        },
        "id": "j83sJmoZRsCa",
        "outputId": "f61496e9-22ac-4e6c-9bd7-f0bf71d9455d"
      },
      "execution_count": null,
      "outputs": [
        {
          "output_type": "execute_result",
          "data": {
            "text/plain": [
              "              Price        Area    Bedrooms   Bathrooms     parking  \\\n",
              "count  5.440000e+02  544.000000  544.000000  544.000000  544.000000   \n",
              "mean   3.957516e+06  190.347426    3.038603    2.257353    0.827206   \n",
              "std    2.476053e+06   88.997893    0.881767    0.829887    0.875024   \n",
              "min    5.500000e+05   63.000000    1.000000    1.000000    0.000000   \n",
              "25%    2.337500e+06  135.000000    3.000000    2.000000    0.000000   \n",
              "50%    3.500000e+06  170.000000    3.000000    2.000000    1.000000   \n",
              "75%    5.000000e+06  205.500000    3.000000    3.000000    2.000000   \n",
              "max    2.600000e+07  720.000000    6.000000    5.000000    3.000000   \n",
              "\n",
              "        Home_Type  \n",
              "count  544.000000  \n",
              "mean     1.477941  \n",
              "std      0.609524  \n",
              "min      1.000000  \n",
              "25%      1.000000  \n",
              "50%      1.000000  \n",
              "75%      2.000000  \n",
              "max      3.000000  "
            ],
            "text/html": [
              "\n",
              "  <div id=\"df-04047db2-6506-4c7a-9110-d44080437e81\" class=\"colab-df-container\">\n",
              "    <div>\n",
              "<style scoped>\n",
              "    .dataframe tbody tr th:only-of-type {\n",
              "        vertical-align: middle;\n",
              "    }\n",
              "\n",
              "    .dataframe tbody tr th {\n",
              "        vertical-align: top;\n",
              "    }\n",
              "\n",
              "    .dataframe thead th {\n",
              "        text-align: right;\n",
              "    }\n",
              "</style>\n",
              "<table border=\"1\" class=\"dataframe\">\n",
              "  <thead>\n",
              "    <tr style=\"text-align: right;\">\n",
              "      <th></th>\n",
              "      <th>Price</th>\n",
              "      <th>Area</th>\n",
              "      <th>Bedrooms</th>\n",
              "      <th>Bathrooms</th>\n",
              "      <th>parking</th>\n",
              "      <th>Home_Type</th>\n",
              "    </tr>\n",
              "  </thead>\n",
              "  <tbody>\n",
              "    <tr>\n",
              "      <th>count</th>\n",
              "      <td>5.440000e+02</td>\n",
              "      <td>544.000000</td>\n",
              "      <td>544.000000</td>\n",
              "      <td>544.000000</td>\n",
              "      <td>544.000000</td>\n",
              "      <td>544.000000</td>\n",
              "    </tr>\n",
              "    <tr>\n",
              "      <th>mean</th>\n",
              "      <td>3.957516e+06</td>\n",
              "      <td>190.347426</td>\n",
              "      <td>3.038603</td>\n",
              "      <td>2.257353</td>\n",
              "      <td>0.827206</td>\n",
              "      <td>1.477941</td>\n",
              "    </tr>\n",
              "    <tr>\n",
              "      <th>std</th>\n",
              "      <td>2.476053e+06</td>\n",
              "      <td>88.997893</td>\n",
              "      <td>0.881767</td>\n",
              "      <td>0.829887</td>\n",
              "      <td>0.875024</td>\n",
              "      <td>0.609524</td>\n",
              "    </tr>\n",
              "    <tr>\n",
              "      <th>min</th>\n",
              "      <td>5.500000e+05</td>\n",
              "      <td>63.000000</td>\n",
              "      <td>1.000000</td>\n",
              "      <td>1.000000</td>\n",
              "      <td>0.000000</td>\n",
              "      <td>1.000000</td>\n",
              "    </tr>\n",
              "    <tr>\n",
              "      <th>25%</th>\n",
              "      <td>2.337500e+06</td>\n",
              "      <td>135.000000</td>\n",
              "      <td>3.000000</td>\n",
              "      <td>2.000000</td>\n",
              "      <td>0.000000</td>\n",
              "      <td>1.000000</td>\n",
              "    </tr>\n",
              "    <tr>\n",
              "      <th>50%</th>\n",
              "      <td>3.500000e+06</td>\n",
              "      <td>170.000000</td>\n",
              "      <td>3.000000</td>\n",
              "      <td>2.000000</td>\n",
              "      <td>1.000000</td>\n",
              "      <td>1.000000</td>\n",
              "    </tr>\n",
              "    <tr>\n",
              "      <th>75%</th>\n",
              "      <td>5.000000e+06</td>\n",
              "      <td>205.500000</td>\n",
              "      <td>3.000000</td>\n",
              "      <td>3.000000</td>\n",
              "      <td>2.000000</td>\n",
              "      <td>2.000000</td>\n",
              "    </tr>\n",
              "    <tr>\n",
              "      <th>max</th>\n",
              "      <td>2.600000e+07</td>\n",
              "      <td>720.000000</td>\n",
              "      <td>6.000000</td>\n",
              "      <td>5.000000</td>\n",
              "      <td>3.000000</td>\n",
              "      <td>3.000000</td>\n",
              "    </tr>\n",
              "  </tbody>\n",
              "</table>\n",
              "</div>\n",
              "    <div class=\"colab-df-buttons\">\n",
              "\n",
              "  <div class=\"colab-df-container\">\n",
              "    <button class=\"colab-df-convert\" onclick=\"convertToInteractive('df-04047db2-6506-4c7a-9110-d44080437e81')\"\n",
              "            title=\"Convert this dataframe to an interactive table.\"\n",
              "            style=\"display:none;\">\n",
              "\n",
              "  <svg xmlns=\"http://www.w3.org/2000/svg\" height=\"24px\" viewBox=\"0 -960 960 960\">\n",
              "    <path d=\"M120-120v-720h720v720H120Zm60-500h600v-160H180v160Zm220 220h160v-160H400v160Zm0 220h160v-160H400v160ZM180-400h160v-160H180v160Zm440 0h160v-160H620v160ZM180-180h160v-160H180v160Zm440 0h160v-160H620v160Z\"/>\n",
              "  </svg>\n",
              "    </button>\n",
              "\n",
              "  <style>\n",
              "    .colab-df-container {\n",
              "      display:flex;\n",
              "      gap: 12px;\n",
              "    }\n",
              "\n",
              "    .colab-df-convert {\n",
              "      background-color: #E8F0FE;\n",
              "      border: none;\n",
              "      border-radius: 50%;\n",
              "      cursor: pointer;\n",
              "      display: none;\n",
              "      fill: #1967D2;\n",
              "      height: 32px;\n",
              "      padding: 0 0 0 0;\n",
              "      width: 32px;\n",
              "    }\n",
              "\n",
              "    .colab-df-convert:hover {\n",
              "      background-color: #E2EBFA;\n",
              "      box-shadow: 0px 1px 2px rgba(60, 64, 67, 0.3), 0px 1px 3px 1px rgba(60, 64, 67, 0.15);\n",
              "      fill: #174EA6;\n",
              "    }\n",
              "\n",
              "    .colab-df-buttons div {\n",
              "      margin-bottom: 4px;\n",
              "    }\n",
              "\n",
              "    [theme=dark] .colab-df-convert {\n",
              "      background-color: #3B4455;\n",
              "      fill: #D2E3FC;\n",
              "    }\n",
              "\n",
              "    [theme=dark] .colab-df-convert:hover {\n",
              "      background-color: #434B5C;\n",
              "      box-shadow: 0px 1px 3px 1px rgba(0, 0, 0, 0.15);\n",
              "      filter: drop-shadow(0px 1px 2px rgba(0, 0, 0, 0.3));\n",
              "      fill: #FFFFFF;\n",
              "    }\n",
              "  </style>\n",
              "\n",
              "    <script>\n",
              "      const buttonEl =\n",
              "        document.querySelector('#df-04047db2-6506-4c7a-9110-d44080437e81 button.colab-df-convert');\n",
              "      buttonEl.style.display =\n",
              "        google.colab.kernel.accessAllowed ? 'block' : 'none';\n",
              "\n",
              "      async function convertToInteractive(key) {\n",
              "        const element = document.querySelector('#df-04047db2-6506-4c7a-9110-d44080437e81');\n",
              "        const dataTable =\n",
              "          await google.colab.kernel.invokeFunction('convertToInteractive',\n",
              "                                                    [key], {});\n",
              "        if (!dataTable) return;\n",
              "\n",
              "        const docLinkHtml = 'Like what you see? Visit the ' +\n",
              "          '<a target=\"_blank\" href=https://colab.research.google.com/notebooks/data_table.ipynb>data table notebook</a>'\n",
              "          + ' to learn more about interactive tables.';\n",
              "        element.innerHTML = '';\n",
              "        dataTable['output_type'] = 'display_data';\n",
              "        await google.colab.output.renderOutput(dataTable, element);\n",
              "        const docLink = document.createElement('div');\n",
              "        docLink.innerHTML = docLinkHtml;\n",
              "        element.appendChild(docLink);\n",
              "      }\n",
              "    </script>\n",
              "  </div>\n",
              "\n",
              "\n",
              "<div id=\"df-f44e4a25-1c2e-4542-ab2c-be8a04a6f0e1\">\n",
              "  <button class=\"colab-df-quickchart\" onclick=\"quickchart('df-f44e4a25-1c2e-4542-ab2c-be8a04a6f0e1')\"\n",
              "            title=\"Suggest charts\"\n",
              "            style=\"display:none;\">\n",
              "\n",
              "<svg xmlns=\"http://www.w3.org/2000/svg\" height=\"24px\"viewBox=\"0 0 24 24\"\n",
              "     width=\"24px\">\n",
              "    <g>\n",
              "        <path d=\"M19 3H5c-1.1 0-2 .9-2 2v14c0 1.1.9 2 2 2h14c1.1 0 2-.9 2-2V5c0-1.1-.9-2-2-2zM9 17H7v-7h2v7zm4 0h-2V7h2v10zm4 0h-2v-4h2v4z\"/>\n",
              "    </g>\n",
              "</svg>\n",
              "  </button>\n",
              "\n",
              "<style>\n",
              "  .colab-df-quickchart {\n",
              "      --bg-color: #E8F0FE;\n",
              "      --fill-color: #1967D2;\n",
              "      --hover-bg-color: #E2EBFA;\n",
              "      --hover-fill-color: #174EA6;\n",
              "      --disabled-fill-color: #AAA;\n",
              "      --disabled-bg-color: #DDD;\n",
              "  }\n",
              "\n",
              "  [theme=dark] .colab-df-quickchart {\n",
              "      --bg-color: #3B4455;\n",
              "      --fill-color: #D2E3FC;\n",
              "      --hover-bg-color: #434B5C;\n",
              "      --hover-fill-color: #FFFFFF;\n",
              "      --disabled-bg-color: #3B4455;\n",
              "      --disabled-fill-color: #666;\n",
              "  }\n",
              "\n",
              "  .colab-df-quickchart {\n",
              "    background-color: var(--bg-color);\n",
              "    border: none;\n",
              "    border-radius: 50%;\n",
              "    cursor: pointer;\n",
              "    display: none;\n",
              "    fill: var(--fill-color);\n",
              "    height: 32px;\n",
              "    padding: 0;\n",
              "    width: 32px;\n",
              "  }\n",
              "\n",
              "  .colab-df-quickchart:hover {\n",
              "    background-color: var(--hover-bg-color);\n",
              "    box-shadow: 0 1px 2px rgba(60, 64, 67, 0.3), 0 1px 3px 1px rgba(60, 64, 67, 0.15);\n",
              "    fill: var(--button-hover-fill-color);\n",
              "  }\n",
              "\n",
              "  .colab-df-quickchart-complete:disabled,\n",
              "  .colab-df-quickchart-complete:disabled:hover {\n",
              "    background-color: var(--disabled-bg-color);\n",
              "    fill: var(--disabled-fill-color);\n",
              "    box-shadow: none;\n",
              "  }\n",
              "\n",
              "  .colab-df-spinner {\n",
              "    border: 2px solid var(--fill-color);\n",
              "    border-color: transparent;\n",
              "    border-bottom-color: var(--fill-color);\n",
              "    animation:\n",
              "      spin 1s steps(1) infinite;\n",
              "  }\n",
              "\n",
              "  @keyframes spin {\n",
              "    0% {\n",
              "      border-color: transparent;\n",
              "      border-bottom-color: var(--fill-color);\n",
              "      border-left-color: var(--fill-color);\n",
              "    }\n",
              "    20% {\n",
              "      border-color: transparent;\n",
              "      border-left-color: var(--fill-color);\n",
              "      border-top-color: var(--fill-color);\n",
              "    }\n",
              "    30% {\n",
              "      border-color: transparent;\n",
              "      border-left-color: var(--fill-color);\n",
              "      border-top-color: var(--fill-color);\n",
              "      border-right-color: var(--fill-color);\n",
              "    }\n",
              "    40% {\n",
              "      border-color: transparent;\n",
              "      border-right-color: var(--fill-color);\n",
              "      border-top-color: var(--fill-color);\n",
              "    }\n",
              "    60% {\n",
              "      border-color: transparent;\n",
              "      border-right-color: var(--fill-color);\n",
              "    }\n",
              "    80% {\n",
              "      border-color: transparent;\n",
              "      border-right-color: var(--fill-color);\n",
              "      border-bottom-color: var(--fill-color);\n",
              "    }\n",
              "    90% {\n",
              "      border-color: transparent;\n",
              "      border-bottom-color: var(--fill-color);\n",
              "    }\n",
              "  }\n",
              "</style>\n",
              "\n",
              "  <script>\n",
              "    async function quickchart(key) {\n",
              "      const quickchartButtonEl =\n",
              "        document.querySelector('#' + key + ' button');\n",
              "      quickchartButtonEl.disabled = true;  // To prevent multiple clicks.\n",
              "      quickchartButtonEl.classList.add('colab-df-spinner');\n",
              "      try {\n",
              "        const charts = await google.colab.kernel.invokeFunction(\n",
              "            'suggestCharts', [key], {});\n",
              "      } catch (error) {\n",
              "        console.error('Error during call to suggestCharts:', error);\n",
              "      }\n",
              "      quickchartButtonEl.classList.remove('colab-df-spinner');\n",
              "      quickchartButtonEl.classList.add('colab-df-quickchart-complete');\n",
              "    }\n",
              "    (() => {\n",
              "      let quickchartButtonEl =\n",
              "        document.querySelector('#df-f44e4a25-1c2e-4542-ab2c-be8a04a6f0e1 button');\n",
              "      quickchartButtonEl.style.display =\n",
              "        google.colab.kernel.accessAllowed ? 'block' : 'none';\n",
              "    })();\n",
              "  </script>\n",
              "</div>\n",
              "\n",
              "    </div>\n",
              "  </div>\n"
            ],
            "application/vnd.google.colaboratory.intrinsic+json": {
              "type": "dataframe",
              "summary": "{\n  \"name\": \"Housingad\",\n  \"rows\": 8,\n  \"fields\": [\n    {\n      \"column\": \"Price\",\n      \"properties\": {\n        \"dtype\": \"number\",\n        \"std\": 8458026.279060956,\n        \"min\": 544.0,\n        \"max\": 26000000.0,\n        \"num_unique_values\": 8,\n        \"samples\": [\n          3957515.788602941,\n          3500000.0,\n          544.0\n        ],\n        \"semantic_type\": \"\",\n        \"description\": \"\"\n      }\n    },\n    {\n      \"column\": \"Area\",\n      \"properties\": {\n        \"dtype\": \"number\",\n        \"std\": 236.54771625558186,\n        \"min\": 63.0,\n        \"max\": 720.0,\n        \"num_unique_values\": 8,\n        \"samples\": [\n          190.34742647058823,\n          170.0,\n          544.0\n        ],\n        \"semantic_type\": \"\",\n        \"description\": \"\"\n      }\n    },\n    {\n      \"column\": \"Bedrooms\",\n      \"properties\": {\n        \"dtype\": \"number\",\n        \"std\": 191.3333805922403,\n        \"min\": 0.8817667454804384,\n        \"max\": 544.0,\n        \"num_unique_values\": 6,\n        \"samples\": [\n          544.0,\n          3.0386029411764706,\n          6.0\n        ],\n        \"semantic_type\": \"\",\n        \"description\": \"\"\n      }\n    },\n    {\n      \"column\": \"Bathrooms\",\n      \"properties\": {\n        \"dtype\": \"number\",\n        \"std\": 191.5249218591062,\n        \"min\": 0.8298867084535967,\n        \"max\": 544.0,\n        \"num_unique_values\": 7,\n        \"samples\": [\n          544.0,\n          2.2573529411764706,\n          3.0\n        ],\n        \"semantic_type\": \"\",\n        \"description\": \"\"\n      }\n    },\n    {\n      \"column\": \"parking\",\n      \"properties\": {\n        \"dtype\": \"number\",\n        \"std\": 191.9466187343438,\n        \"min\": 0.0,\n        \"max\": 544.0,\n        \"num_unique_values\": 7,\n        \"samples\": [\n          544.0,\n          0.8272058823529411,\n          2.0\n        ],\n        \"semantic_type\": \"\",\n        \"description\": \"\"\n      }\n    },\n    {\n      \"column\": \"Home_Type\",\n      \"properties\": {\n        \"dtype\": \"number\",\n        \"std\": 191.82504711492692,\n        \"min\": 0.6095243052329414,\n        \"max\": 544.0,\n        \"num_unique_values\": 6,\n        \"samples\": [\n          544.0,\n          1.4779411764705883,\n          3.0\n        ],\n        \"semantic_type\": \"\",\n        \"description\": \"\"\n      }\n    }\n  ]\n}"
            }
          },
          "metadata": {},
          "execution_count": 46
        }
      ]
    },
    {
      "cell_type": "code",
      "source": [
        "X = Housingad.drop(['Price','address egypt'], axis=1)\n",
        "y = Housingad['Price']\n",
        "#X_train, X_test, y_train, y_test = train_test_split(X, y, test_size=0.2,random_state=71)\n",
        "X_train, X_test, y_train, y_test = train_test_split(X, y, train_size=0.8, test_size=0.2, random_state=62)\n"
      ],
      "metadata": {
        "id": "T-xMWpj-BdUv"
      },
      "execution_count": null,
      "outputs": []
    },
    {
      "cell_type": "code",
      "source": [
        "X_train.head(), y_train.head()"
      ],
      "metadata": {
        "colab": {
          "base_uri": "https://localhost:8080/"
        },
        "id": "EHvbub5-RjYH",
        "outputId": "a2590bc2-2d87-439e-e732-74b9cc5595cb"
      },
      "execution_count": null,
      "outputs": [
        {
          "output_type": "execute_result",
          "data": {
            "text/plain": [
              "(     Area  Bedrooms  Bathrooms  parking  Home_Type\n",
              " 210   170         3          2        2          1\n",
              " 451   266         3          3        1          2\n",
              " 359   180         3          3        0          1\n",
              " 234   200         3          2        0          1\n",
              " 424   200         3          3        0          1,\n",
              " 210    3170000\n",
              " 451    3900000\n",
              " 359    7000000\n",
              " 234    2850000\n",
              " 424    3500000\n",
              " Name: Price, dtype: int64)"
            ]
          },
          "metadata": {},
          "execution_count": 66
        }
      ]
    },
    {
      "cell_type": "code",
      "source": [
        "model = LinearRegression()\n",
        "model.fit(X_train, y_train)\n",
        "\n"
      ],
      "metadata": {
        "colab": {
          "base_uri": "https://localhost:8080/",
          "height": 74
        },
        "id": "Yt0nsxLmXUdI",
        "outputId": "7c18060d-e964-4a35-950d-afaef40ba822"
      },
      "execution_count": null,
      "outputs": [
        {
          "output_type": "execute_result",
          "data": {
            "text/plain": [
              "LinearRegression()"
            ],
            "text/html": [
              "<style>#sk-container-id-3 {color: black;background-color: white;}#sk-container-id-3 pre{padding: 0;}#sk-container-id-3 div.sk-toggleable {background-color: white;}#sk-container-id-3 label.sk-toggleable__label {cursor: pointer;display: block;width: 100%;margin-bottom: 0;padding: 0.3em;box-sizing: border-box;text-align: center;}#sk-container-id-3 label.sk-toggleable__label-arrow:before {content: \"▸\";float: left;margin-right: 0.25em;color: #696969;}#sk-container-id-3 label.sk-toggleable__label-arrow:hover:before {color: black;}#sk-container-id-3 div.sk-estimator:hover label.sk-toggleable__label-arrow:before {color: black;}#sk-container-id-3 div.sk-toggleable__content {max-height: 0;max-width: 0;overflow: hidden;text-align: left;background-color: #f0f8ff;}#sk-container-id-3 div.sk-toggleable__content pre {margin: 0.2em;color: black;border-radius: 0.25em;background-color: #f0f8ff;}#sk-container-id-3 input.sk-toggleable__control:checked~div.sk-toggleable__content {max-height: 200px;max-width: 100%;overflow: auto;}#sk-container-id-3 input.sk-toggleable__control:checked~label.sk-toggleable__label-arrow:before {content: \"▾\";}#sk-container-id-3 div.sk-estimator input.sk-toggleable__control:checked~label.sk-toggleable__label {background-color: #d4ebff;}#sk-container-id-3 div.sk-label input.sk-toggleable__control:checked~label.sk-toggleable__label {background-color: #d4ebff;}#sk-container-id-3 input.sk-hidden--visually {border: 0;clip: rect(1px 1px 1px 1px);clip: rect(1px, 1px, 1px, 1px);height: 1px;margin: -1px;overflow: hidden;padding: 0;position: absolute;width: 1px;}#sk-container-id-3 div.sk-estimator {font-family: monospace;background-color: #f0f8ff;border: 1px dotted black;border-radius: 0.25em;box-sizing: border-box;margin-bottom: 0.5em;}#sk-container-id-3 div.sk-estimator:hover {background-color: #d4ebff;}#sk-container-id-3 div.sk-parallel-item::after {content: \"\";width: 100%;border-bottom: 1px solid gray;flex-grow: 1;}#sk-container-id-3 div.sk-label:hover label.sk-toggleable__label {background-color: #d4ebff;}#sk-container-id-3 div.sk-serial::before {content: \"\";position: absolute;border-left: 1px solid gray;box-sizing: border-box;top: 0;bottom: 0;left: 50%;z-index: 0;}#sk-container-id-3 div.sk-serial {display: flex;flex-direction: column;align-items: center;background-color: white;padding-right: 0.2em;padding-left: 0.2em;position: relative;}#sk-container-id-3 div.sk-item {position: relative;z-index: 1;}#sk-container-id-3 div.sk-parallel {display: flex;align-items: stretch;justify-content: center;background-color: white;position: relative;}#sk-container-id-3 div.sk-item::before, #sk-container-id-3 div.sk-parallel-item::before {content: \"\";position: absolute;border-left: 1px solid gray;box-sizing: border-box;top: 0;bottom: 0;left: 50%;z-index: -1;}#sk-container-id-3 div.sk-parallel-item {display: flex;flex-direction: column;z-index: 1;position: relative;background-color: white;}#sk-container-id-3 div.sk-parallel-item:first-child::after {align-self: flex-end;width: 50%;}#sk-container-id-3 div.sk-parallel-item:last-child::after {align-self: flex-start;width: 50%;}#sk-container-id-3 div.sk-parallel-item:only-child::after {width: 0;}#sk-container-id-3 div.sk-dashed-wrapped {border: 1px dashed gray;margin: 0 0.4em 0.5em 0.4em;box-sizing: border-box;padding-bottom: 0.4em;background-color: white;}#sk-container-id-3 div.sk-label label {font-family: monospace;font-weight: bold;display: inline-block;line-height: 1.2em;}#sk-container-id-3 div.sk-label-container {text-align: center;}#sk-container-id-3 div.sk-container {/* jupyter's `normalize.less` sets `[hidden] { display: none; }` but bootstrap.min.css set `[hidden] { display: none !important; }` so we also need the `!important` here to be able to override the default hidden behavior on the sphinx rendered scikit-learn.org. See: https://github.com/scikit-learn/scikit-learn/issues/21755 */display: inline-block !important;position: relative;}#sk-container-id-3 div.sk-text-repr-fallback {display: none;}</style><div id=\"sk-container-id-3\" class=\"sk-top-container\"><div class=\"sk-text-repr-fallback\"><pre>LinearRegression()</pre><b>In a Jupyter environment, please rerun this cell to show the HTML representation or trust the notebook. <br />On GitHub, the HTML representation is unable to render, please try loading this page with nbviewer.org.</b></div><div class=\"sk-container\" hidden><div class=\"sk-item\"><div class=\"sk-estimator sk-toggleable\"><input class=\"sk-toggleable__control sk-hidden--visually\" id=\"sk-estimator-id-3\" type=\"checkbox\" checked><label for=\"sk-estimator-id-3\" class=\"sk-toggleable__label sk-toggleable__label-arrow\">LinearRegression</label><div class=\"sk-toggleable__content\"><pre>LinearRegression()</pre></div></div></div></div></div>"
            ]
          },
          "metadata": {},
          "execution_count": 67
        }
      ]
    },
    {
      "cell_type": "code",
      "source": [
        "regressor = LinearRegression()\n",
        "regressor.fit(X_train, y_train)\n",
        "y_pred = regressor.predict(X_test)\n",
        "accuracy = regressor.score(X_test, y_test)\n",
        "print(\"accuracy:\", accuracy)\n",
        "mse = mean_squared_error(y_test, y_pred)\n",
        "print(\"Mean Squared Error:\", mse)\n",
        "r2 = r2_score(y_test, y_pred)\n",
        "print(\"R^2 score:\", r2)\n",
        "\n",
        "\n"
      ],
      "metadata": {
        "colab": {
          "base_uri": "https://localhost:8080/"
        },
        "id": "K-CLDaI3BfGq",
        "outputId": "e20aea13-b528-4ff7-9c62-d72c491a3926"
      },
      "execution_count": null,
      "outputs": [
        {
          "output_type": "stream",
          "name": "stdout",
          "text": [
            "accuracy: 0.731834195115443\n",
            "Mean Squared Error: 1917291717663.853\n",
            "R^2 score: 0.731834195115443\n"
          ]
        }
      ]
    },
    {
      "cell_type": "code",
      "source": [
        "train_predictions = model.predict(X_train)\n",
        "\n",
        "# Print the predictions\n",
        "print(train_predictions)"
      ],
      "metadata": {
        "colab": {
          "base_uri": "https://localhost:8080/"
        },
        "id": "w9qqtmO1X0gw",
        "outputId": "133c349a-24c6-42d8-c48f-14f90b258927"
      },
      "execution_count": null,
      "outputs": [
        {
          "output_type": "stream",
          "name": "stdout",
          "text": [
            "[ 3448756.93047777  5733247.77186067  4108296.52896805  4037191.40784157\n",
            "  4467624.47365478 10402035.49809959  4931514.77924802  2695348.46322431\n",
            "  1711193.10564618  2580795.19688578  2767214.05216166  2500954.11614612\n",
            "  1228218.36784409  3494203.00050108  4061015.30935321 11031897.76584324\n",
            "  4692314.76724364  3337262.38351331  5954419.20501653  5464869.84832012\n",
            "  3724247.30411446  5470506.69627813 12971508.19934074  2680618.08848949\n",
            "  2779543.60143799  3497302.11215626  5464869.84832012  2070521.05033291\n",
            "  4141753.76874807  2885043.73328081  7138145.61657193  3900675.25395831\n",
            "  3674627.44065532  5808212.47245319  4238517.94097771  4826952.41834152\n",
            "  3485109.47372426  3699526.02394761  3264636.32676509  3956452.9484467\n",
            "  3938265.89489307  5445785.41611128  5950422.71470614  5598610.12076279\n",
            "  3822815.24989932  9153078.3178256   6835815.97524338  3117669.12639088\n",
            "  4170171.21247336  5661739.75008696  7415554.88527511  1905587.45272436\n",
            "  4680745.68577818  2745728.79449433  6739723.58414717  2633336.86887465\n",
            "  4144229.32343672  2999596.99961935  1686471.82547933  2946878.02450503\n",
            "  4396519.3525283   1639327.51670883  3156837.94335907  3791519.35083816\n",
            "  2851409.19037534  1496816.94770393  2469477.95304676  4099423.65851053\n",
            "  3658779.03094599  2734517.2801925   3358924.94430608  2968301.10055818\n",
            "  2169446.56328141  3013106.76548437  2021078.48999921  2779543.60143799\n",
            "  6535338.33163695  1791034.18638583  1791034.18638583  4058853.96863435\n",
            "  2405127.7148528   4061015.30935321  2045799.77016606  2500954.11614612\n",
            "  5390706.00781958  2097580.97434407  2909765.01344766  5886832.94432305\n",
            "  3778146.49581747  2577276.33645278  5078481.97962223  4108296.52896805\n",
            "  2749247.65492732  5087217.93923541  3179260.97196272  3228703.53229641\n",
            "  2760459.16922915  5144635.99137142  1021715.12780886  1351865.16095944\n",
            "  1955967.78399438 11618033.99164384  4386886.01425992  3138871.54612473\n",
            "  3239915.04659824  3825290.80458797  3572403.72359312  3364919.35942772\n",
            "  2860282.06083286  2887341.98484402  2528774.50796815  8239670.5142103\n",
            "  4158959.69817154  2135631.75633775  2070521.05033291  3715153.77733764\n",
            "  2944119.6318829   3588031.47698315  4449658.07642044  1562825.03236397\n",
            "  2438942.52179647  3928632.55662468  3233160.16366573  2575158.34892778\n",
            "  4263239.22114456  7950550.31199483  3369198.68767159  3138871.54612473\n",
            "  4216855.38018494  1447333.99508913  4405612.87930512  2149601.6632617\n",
            "  4590913.69960649  3728526.63235833  2760459.16922915  1965061.3107712\n",
            "  4925520.36412638  2184176.93801623  4410489.25945226  7307893.41271343\n",
            "  2081732.56463474  1903646.7683248   3517386.4969156   1571918.55914079\n",
            "  2214252.22820761  3849114.70609961  3671108.58022232  4423579.27653946\n",
            "  4912368.16542499  1686471.82547933  4101404.73519119  3598482.5234741\n",
            "  7960183.65026322  4550564.66604961  1586648.93387561  7197977.0417824\n",
            "  9181138.19438725  3390401.10740545  6411554.62767726  3529495.38987263\n",
            "  2734517.2801925   4242036.80141071  8165466.28142865  3308544.61303607\n",
            "  3847536.53006617  3847536.53006617  3495901.23924826  3102938.75165606\n",
            "  5912774.83335969  3318535.5184681   1922152.97705071  4018464.54279636\n",
            "  3383646.22447293  3444300.29910846  4212858.88987455  3659897.0659205\n",
            "  2580795.19688578  2340017.00884796  3448756.93047777  5824197.79300686\n",
            "  3782425.82406134  1914680.97950118  2730101.04110429  4789304.53699507\n",
            "  4012470.12767472  2704441.99000113  1863036.68616752  2386400.84980759\n",
            "  3832806.15533135  3129778.01934791  4263102.31030022  5015709.9174617\n",
            "  4090330.13173371 11293060.66539234  3760180.09858313  4382249.11885241\n",
            "  2080835.18597952  4011572.74901951  3965785.95996315  2575158.34892778\n",
            "  3498199.49081147  6777637.45529651  3784901.37874998  4718393.56712463\n",
            "  3473478.21064462  3718252.88899282  3398376.59920775  3015224.75300938\n",
            "  3318535.5184681   2250185.02267628  2318814.58911411  3674804.74378076\n",
            "  5406554.41752891  4338623.67051491  3318535.5184681   2444579.36975447\n",
            "  2785180.449396    3089428.98579103  2169446.56328141  1138386.3816724\n",
            "  1172201.18861607  1612267.59269767  2910047.85138114  3515405.42023493\n",
            "  4008473.63736433  4406970.39901926  3763698.95901613  1571918.55914079\n",
            "  3857527.4354982   3416342.99644209  4238517.94097771  7223158.46300818\n",
            "  2094344.95184455  4037191.40784157  3081736.3319222   5260127.02864627\n",
            "  4200467.15898404  5990351.9994852   3808084.8751645   4337443.45392622\n",
            "  5409034.91342004  1327143.88079259  5030440.29219653  3319756.12733789\n",
            "  2959207.57378136  2456148.45121993  4092311.20841438  7592880.21377417\n",
            "  3928632.55662468  4733884.40967032  6523229.43867991  4576183.32487167\n",
            "  4111395.64062322  3779189.80156182  4362164.73409307  2959207.57378136\n",
            "  4721492.6787798   3333265.89320292  3664773.44606763  9496420.94195866\n",
            "  1683235.80297981  2144725.28311456  2169446.56328141  3143328.17749404\n",
            "  2494199.23321361  2709796.00002565  5648990.4520328   2730101.04110429\n",
            "  5649410.20081062  1890857.07798954  2509690.0757593   3961329.32859384\n",
            "  4033194.91753118  2264915.3974111   4033194.91753118  3063769.93468787\n",
            "  3358924.94430608  2635812.4235633   1815755.46655268  4517107.42626959\n",
            "  1928907.85998322  4441245.34702185  2026715.33795721  7753220.26916907\n",
            "  2902072.35957884  2318814.58911411  1392254.58679742  2106453.84480159\n",
            "  4621669.78717609  2745728.79449433  4018464.54279636  3588031.47698315\n",
            "  3293814.23830125  4532735.17965962  3602761.85171797  2393018.82189576\n",
            "  9440403.76273065  5239282.17607605  3563310.1968163   3383646.22447293\n",
            "  5115175.24190178  5724374.90140315  3859866.07934251  2909765.01344766\n",
            "  7366071.93266031  5119631.87327109  6443030.79077662  3473478.21064462\n",
            "  3677863.46315483  5005719.01202968  4198128.51513973  7700678.5971802\n",
            "  3239915.04659824  3519862.05160424  3828809.66502097  6533220.34411194\n",
            "  3222709.11717477  1612267.59269767  2752483.67742684  4359826.09024876\n",
            "  3398376.59920775  4522744.27422759  3677863.46315483  5869003.45793305\n",
            "  3138871.54612473  2605516.47705263  4123964.67463918 10124484.37734958\n",
            "  6489414.63173625  4631660.69260812  1670623.41576999  3293814.23830125\n",
            "  2554853.30784913  1531529.13330281  4517107.42626959  2869375.58760968\n",
            "  2645905.90289061  7261509.5717538   2806382.86912985  2092183.61112569\n",
            "  7318790.71304547  6108424.12625673  3928632.55662468  2250185.02267628\n",
            "  3138871.54612473  3853530.94518782  4557456.45982647  3336501.91570244\n",
            "  2680618.08848949  5536735.43725747  1815755.46655268  4058853.96863435\n",
            "  2271847.58346906  8443158.3880653   3114150.26595788  4662018.82073297\n",
            "  3943362.9313595   3228703.53229641  3602761.85171797  4117253.14490052\n",
            "  4386886.01425992  3538588.91664945  3390401.10740545  4127483.53507218\n",
            "  3333265.89320292  3806249.72557298  8083830.44337857  6566677.58389197\n",
            "  2699805.09459362  2922156.74433818  5559798.87095824  2754822.32127114\n",
            "  3013106.76548437  2476232.83597927  3874733.36492167  4008473.63736433\n",
            "  3628420.90282113  4392522.86221792  4065608.85156686  6695320.81986821\n",
            " 10441124.64463513  4826952.41834152  1766312.90621898  2376409.94437556\n",
            "  9397495.42901016  2605516.47705263  3114150.26595788  3444300.29910846\n",
            "  3176161.86030754  4108296.52896805  3128880.6406927   3903911.27645783\n",
            "  2946458.27572721  2504053.2278013   4209340.02944155  4597845.88566445\n",
            "  2799627.98619734  5316501.77503792  1048554.39550072  4632421.16041899\n",
            "  9341478.24978215  3318535.5184681   2860282.06083286  3777249.11716226\n",
            "  2120004.00294771  3138871.54612473  4212858.88987455  4263239.22114456\n",
            "  4591091.00273194  1815755.46655268  3430790.53324343  5480140.03454652\n",
            "  2902072.35957884  2959207.57378136  3243433.90703123  1441697.14713112\n",
            "  8749944.66076317  8565541.21911701  5734905.61832675  4671112.34750979\n",
            "  5579065.54749502  3850772.55256569  5455776.32154331  1905587.45272436\n",
            "  2169446.56328141  4018464.54279636  8239670.5142103   5151925.74459302\n",
            "  1450570.01758864  4233063.33734764  4572186.83456129  3843257.20182231\n",
            "  4973022.24006052  3463487.30521259  3581276.59405064]\n"
          ]
        }
      ]
    },
    {
      "cell_type": "code",
      "source": [
        "new_data = pd.DataFrame({'Area': [90], 'Bedrooms': [1],'Bathrooms': [1],'parking': [0],'Home_Type': [1]})\n",
        "prediction = model.predict(new_data)\n",
        "print(\"Predicted price:\", prediction)"
      ],
      "metadata": {
        "colab": {
          "base_uri": "https://localhost:8080/"
        },
        "id": "BryUDWpLcik5",
        "outputId": "eb1563d6-1062-42a8-c718-78c67003d0de"
      },
      "execution_count": null,
      "outputs": [
        {
          "output_type": "stream",
          "name": "stdout",
          "text": [
            "Predicted price: [1432603.62035431]\n"
          ]
        }
      ]
    },
    {
      "cell_type": "code",
      "source": [
        "mse = mean_squared_error(y_test, y_pred)\n",
        "print(\"Mean Squared Error:\", mse)"
      ],
      "metadata": {
        "colab": {
          "base_uri": "https://localhost:8080/"
        },
        "id": "Y5PISY5BW2kG",
        "outputId": "66d5aa7f-e008-4bbb-821d-4a44be900cad"
      },
      "execution_count": null,
      "outputs": [
        {
          "output_type": "stream",
          "name": "stdout",
          "text": [
            "Mean Squared Error: 1987738111013.4749\n"
          ]
        }
      ]
    },
    {
      "cell_type": "code",
      "source": [],
      "metadata": {
        "id": "lfnSKYId1uG2"
      },
      "execution_count": null,
      "outputs": []
    },
    {
      "cell_type": "code",
      "source": [
        "#X = Book.drop(['price'],axis=1)\n",
        "#X = Book.drop(['address egypt'],axis=1)\n",
        "X = zHousing.drop(['Price'], axis=1)\n",
        "#X = Housing.drop(['Price', 'address egypt','Home Type'], axis=1)\n",
        "y = zHousing['Price']\n",
        "#X_train,X_test,y_train,y_test = train_test_split(X,y,test_size=0.3,random_state=42)\n",
        "X_train, X_test, y_train, y_test = train_test_split(X, y, train_size=0.7, test_size=0.3, random_state=100)"
      ],
      "metadata": {
        "id": "uUWzDMZ-Bngp"
      },
      "execution_count": null,
      "outputs": []
    },
    {
      "cell_type": "code",
      "source": [
        "X_train.dropna(inplace=True)\n",
        "y_train = y_train[X_train.index]"
      ],
      "metadata": {
        "id": "qRmtCeXVBnzG"
      },
      "execution_count": null,
      "outputs": []
    },
    {
      "cell_type": "code",
      "source": [
        "from sklearn.impute import SimpleImputer\n",
        "\n",
        "# Impute NaN values with the mean of the column\n",
        "imputer = SimpleImputer(strategy='mean')\n",
        "X_train = imputer.fit_transform(X_train)"
      ],
      "metadata": {
        "id": "RAcSkJRFBs5E"
      },
      "execution_count": null,
      "outputs": []
    },
    {
      "cell_type": "code",
      "source": [
        "from sklearn.impute import SimpleImputer\n",
        "\n",
        "# Create an imputer object with mean strategy\n",
        "imputer = SimpleImputer(strategy='mean')\n",
        "\n",
        "# Fit the imputer on the training data\n",
        "imputer.fit(X_train)\n",
        "\n",
        "# Transform both training and testing data\n",
        "X_train_imputed = imputer.transform(X_train)\n",
        "X_test_imputed = imputer.transform(X_test)\n",
        "\n",
        "# Train the model\n",
        "model.fit(X_train_imputed, y_train)\n",
        "\n",
        "# Make predictions on the testing set\n",
        "y_pred = model.predict(X_test_imputed)"
      ],
      "metadata": {
        "colab": {
          "base_uri": "https://localhost:8080/"
        },
        "id": "rqzWOflYBukY",
        "outputId": "c87c0b99-241e-496a-c6d3-01197d270795"
      },
      "execution_count": null,
      "outputs": [
        {
          "output_type": "stream",
          "name": "stderr",
          "text": [
            "/usr/local/lib/python3.10/dist-packages/sklearn/base.py:432: UserWarning: X has feature names, but SimpleImputer was fitted without feature names\n",
            "  warnings.warn(\n"
          ]
        }
      ]
    },
    {
      "cell_type": "code",
      "source": [
        "model = LinearRegression()\n",
        "\n",
        "# Fit the imputer on the training data and transform both X_train and X_test\n",
        "X_train_imputed = imputer.fit_transform(X_train)\n",
        "x_test_imputed = imputer.transform(X_test)\n",
        "\n",
        "# Now, train your model on the imputed training data\n",
        "model.fit(X_train_imputed, y_train)\n",
        "X_train_imputed\n",
        "\n",
        "# Train the model\n",
        "model.fit(X_train, y_train)\n",
        "\n",
        "# Make predictions on the testing data\n",
        "y_pred = model.predict(X_test_imputed)\n",
        "\n",
        "# Evaluate the model\n",
        "mse = mean_squared_error(y_test, y_pred)\n",
        "print(\"Mean Squared Error:\", mse)\n",
        "\n",
        "# Calculate the R^2 score\n",
        "r2 = r2_score(y_test, y_pred)\n",
        "print(\"R^2 score:\", r2)\n",
        "\n",
        "\n",
        "accuracy = model.score(X_test_imputed, y_test)\n",
        "print(\"accuracy:\", accuracy)"
      ],
      "metadata": {
        "colab": {
          "base_uri": "https://localhost:8080/"
        },
        "id": "6RUu829NBwNk",
        "outputId": "e8550f9a-331d-4627-86d5-8711afe67bc8"
      },
      "execution_count": null,
      "outputs": [
        {
          "output_type": "stream",
          "name": "stdout",
          "text": [
            "Mean Squared Error: 2890414924545.9575\n",
            "R^2 score: 0.12087966035174857\n",
            "accuracy: 0.12087966035174857\n"
          ]
        },
        {
          "output_type": "stream",
          "name": "stderr",
          "text": [
            "/usr/local/lib/python3.10/dist-packages/sklearn/base.py:432: UserWarning: X has feature names, but SimpleImputer was fitted without feature names\n",
            "  warnings.warn(\n"
          ]
        }
      ]
    },
    {
      "cell_type": "code",
      "source": [],
      "metadata": {
        "id": "M-idj3fyBzLU"
      },
      "execution_count": null,
      "outputs": []
    }
  ]
}